{
 "cells": [
  {
   "cell_type": "markdown",
   "id": "1624b114",
   "metadata": {},
   "source": [
    "# What does the Options Chain Think? -- Visualizing Options Pricing Models and Market Implications\n",
    "\n",
    "This notebook is a visual investigation into different options pricing models in literature, and looks to characterize market views on the implied volatility and other parameters characterizing underlying stock returns. \n",
    "\n",
    "## 1. Introduction\n",
    "\n",
    "Options provide invaluable insight into how the market forecasts future returns in underlying assets. Depending on which options pricing model you use, the options chain implies key attributes about the expected future returns of the underlying. For example, for the commonly-used Black-Scholes Model, the assumption about underlying asset returns following a geometric Brownian motion implies the volatility factor $\\sigma_S$ on the Wiener process.\n",
    "\n",
    "This notebook takes a look at different options pricing models in literature and visualizes their implied volatility surface w.r.t. expiry time and strike."
   ]
  },
  {
   "cell_type": "code",
   "execution_count": null,
   "id": "08960fc4",
   "metadata": {},
   "outputs": [
    {
     "ename": "SyntaxError",
     "evalue": "incomplete input (2615534526.py, line 26)",
     "output_type": "error",
     "traceback": [
      "  \u001b[36mCell\u001b[39m\u001b[36m \u001b[39m\u001b[32mIn[2]\u001b[39m\u001b[32m, line 26\u001b[39m\n\u001b[31m    \u001b[39m\n    ^\n\u001b[31mSyntaxError\u001b[39m\u001b[31m:\u001b[39m incomplete input\n"
     ]
    }
   ],
   "source": [
    "from jax.scipy.stats import norm as jnorm\n",
    "import jax.numpy as jnp\n",
    "from jax import grad\n",
    "\n",
    "import pandas as pd\n",
    "\n",
    "from plotly.subplots import make_subplots\n",
    "import plotly.graph_objects as go\n",
    "import plotly.express as px\n",
    "\"\"\" S = underlying\n",
    "    K = strike\n",
    "    sigma = vol\n",
    "    r = effective (continuously compounded) rfr\n",
    "    q = effective (continuously compounded) dividend yield\n",
    "    T = time to expiration (as a fraction of 1 year)\n",
    "\"\"\"\n",
    "def black_scholes(S, K, T, r, sigma, q=0, option_type = \"call\"):\n",
    "    d1 = (jnp.log(S / K) + (r - q + 0.5 * sigma ** 2)) / (sigma * jnp.sqrt(T))\n",
    "    d2 = d1 - sigma * jnp.sqrt(T)\n",
    "    if option_type == \"call\":\n",
    "        return S * jnp.exp(-q * T) * jnorm.cdf(d1, 0, 1) - K * jnp.exp(-r * T) * jnorm.cdf(d2, 0, 1)\n",
    "    else:\n",
    "        return K * jnp.exp(-r * T) * jnorm.cdf(-d2, 0, 1) - S * jnp.exp(-q * T) * jnorm.cdf(-d1, 0, 1)\n",
    "    \n",
    "# def ivol_loss(S, K, T, r, sigma_guess, actual_price, q=0, option_type = \"call\"):\n",
    "    "
   ]
  }
 ],
 "metadata": {
  "kernelspec": {
   "display_name": "venv-2",
   "language": "python",
   "name": "python3"
  },
  "language_info": {
   "codemirror_mode": {
    "name": "ipython",
    "version": 3
   },
   "file_extension": ".py",
   "mimetype": "text/x-python",
   "name": "python",
   "nbconvert_exporter": "python",
   "pygments_lexer": "ipython3",
   "version": "3.11.13"
  }
 },
 "nbformat": 4,
 "nbformat_minor": 5
}
